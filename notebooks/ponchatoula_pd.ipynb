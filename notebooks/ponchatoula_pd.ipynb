{
 "metadata": {
  "language_info": {
   "codemirror_mode": {
    "name": "ipython",
    "version": 3
   },
   "file_extension": ".py",
   "mimetype": "text/x-python",
   "name": "python",
   "nbconvert_exporter": "python",
   "pygments_lexer": "ipython3",
   "version": "3.9.2"
  },
  "orig_nbformat": 4,
  "kernelspec": {
   "name": "python3",
   "display_name": "Python 3.9.2 64-bit ('base': virtualenvwrapper)"
  },
  "interpreter": {
   "hash": "55d6dfa6f6295e03bf132df3e61c1565ff1c22b645ef82a5638b280b97b3597b"
  }
 },
 "nbformat": 4,
 "nbformat_minor": 2,
 "cells": [
  {
   "cell_type": "code",
   "execution_count": 1,
   "metadata": {},
   "outputs": [],
   "source": [
    "import sys; sys.path.append('../')\n",
    "\n",
    "import pandas as pd\n",
    "\n",
    "from clean.ponchatoula_pd import clean"
   ]
  },
  {
   "cell_type": "code",
   "execution_count": 2,
   "metadata": {},
   "outputs": [
    {
     "output_type": "execute_result",
     "data": {
      "text/plain": [
       "    employee_id first_name middle_initial  last_name department_desc  \\\n",
       "0         60434     jerome              l   mcdowell             pol   \n",
       "1         60469      terry              j   guillory             pol   \n",
       "2         60468      donna              v     fisher            disp   \n",
       "3         60494   marshall                     price             pol   \n",
       "4         60444     morris                 mashon jr             pol   \n",
       "..          ...        ...            ...        ...             ...   \n",
       "71        60584      frank              s     tallia             pol   \n",
       "72        60520    damieon              r     tanner             pol   \n",
       "73        60612    patrick                   trammel             pol   \n",
       "74        60547     curtis              j   whitaker             pol   \n",
       "75        60531     nicole                  williams            disp   \n",
       "\n",
       "    hire_date termination_date  salary salary_freq     sex  \\\n",
       "0    4/3/2006        2/26/2010   15.02      hourly    male   \n",
       "1   9/28/2007         7/7/2010   12.12      hourly    male   \n",
       "2   9/20/2007         8/8/2010    9.71      hourly  female   \n",
       "3   7/15/2009       12/22/2010   10.99      hourly    male   \n",
       "4    9/1/2006        3/18/2011   13.24      hourly    male   \n",
       "..        ...              ...     ...         ...     ...   \n",
       "71  9/30/2017              NaN   13.74      hourly    male   \n",
       "72   2/6/2012              NaN   17.63      hourly    male   \n",
       "73  8/13/2019              NaN   14.49      hourly    male   \n",
       "74  1/23/2015              NaN   15.70      hourly    male   \n",
       "75   7/6/2013              NaN   14.66      hourly  female   \n",
       "\n",
       "   data_production_year          agency                               uid  \n",
       "0                  2020  Ponchatoula PD  a4d5f48d22b2b71860772d5b26141107  \n",
       "1                  2020  Ponchatoula PD  65d13a1dc0d21d5c6cf604ddd214bd1c  \n",
       "2                  2020  Ponchatoula PD  bbce9f5fcce59409ffa54584072591a3  \n",
       "3                  2020  Ponchatoula PD  37e24695d53c982014d417d453ae5663  \n",
       "4                  2020  Ponchatoula PD  51ec760ee7744345bae7b42105924ebb  \n",
       "..                  ...             ...                               ...  \n",
       "71                 2020  Ponchatoula PD  5bd47649fcb9d0b089dcedcd6d6139bf  \n",
       "72                 2020  Ponchatoula PD  2fca0b43a7947168ad334eb6f2ca2381  \n",
       "73                 2020  Ponchatoula PD  a83867807b8e43ca32ee806db593ede2  \n",
       "74                 2020  Ponchatoula PD  051301494cbb18ec2574ce6973fc3c00  \n",
       "75                 2020  Ponchatoula PD  a7086182b548320b1c87c7da70eb6598  \n",
       "\n",
       "[76 rows x 13 columns]"
      ],
      "text/html": "<div>\n<style scoped>\n    .dataframe tbody tr th:only-of-type {\n        vertical-align: middle;\n    }\n\n    .dataframe tbody tr th {\n        vertical-align: top;\n    }\n\n    .dataframe thead th {\n        text-align: right;\n    }\n</style>\n<table border=\"1\" class=\"dataframe\">\n  <thead>\n    <tr style=\"text-align: right;\">\n      <th></th>\n      <th>employee_id</th>\n      <th>first_name</th>\n      <th>middle_initial</th>\n      <th>last_name</th>\n      <th>department_desc</th>\n      <th>hire_date</th>\n      <th>termination_date</th>\n      <th>salary</th>\n      <th>salary_freq</th>\n      <th>sex</th>\n      <th>data_production_year</th>\n      <th>agency</th>\n      <th>uid</th>\n    </tr>\n  </thead>\n  <tbody>\n    <tr>\n      <th>0</th>\n      <td>60434</td>\n      <td>jerome</td>\n      <td>l</td>\n      <td>mcdowell</td>\n      <td>pol</td>\n      <td>4/3/2006</td>\n      <td>2/26/2010</td>\n      <td>15.02</td>\n      <td>hourly</td>\n      <td>male</td>\n      <td>2020</td>\n      <td>Ponchatoula PD</td>\n      <td>a4d5f48d22b2b71860772d5b26141107</td>\n    </tr>\n    <tr>\n      <th>1</th>\n      <td>60469</td>\n      <td>terry</td>\n      <td>j</td>\n      <td>guillory</td>\n      <td>pol</td>\n      <td>9/28/2007</td>\n      <td>7/7/2010</td>\n      <td>12.12</td>\n      <td>hourly</td>\n      <td>male</td>\n      <td>2020</td>\n      <td>Ponchatoula PD</td>\n      <td>65d13a1dc0d21d5c6cf604ddd214bd1c</td>\n    </tr>\n    <tr>\n      <th>2</th>\n      <td>60468</td>\n      <td>donna</td>\n      <td>v</td>\n      <td>fisher</td>\n      <td>disp</td>\n      <td>9/20/2007</td>\n      <td>8/8/2010</td>\n      <td>9.71</td>\n      <td>hourly</td>\n      <td>female</td>\n      <td>2020</td>\n      <td>Ponchatoula PD</td>\n      <td>bbce9f5fcce59409ffa54584072591a3</td>\n    </tr>\n    <tr>\n      <th>3</th>\n      <td>60494</td>\n      <td>marshall</td>\n      <td></td>\n      <td>price</td>\n      <td>pol</td>\n      <td>7/15/2009</td>\n      <td>12/22/2010</td>\n      <td>10.99</td>\n      <td>hourly</td>\n      <td>male</td>\n      <td>2020</td>\n      <td>Ponchatoula PD</td>\n      <td>37e24695d53c982014d417d453ae5663</td>\n    </tr>\n    <tr>\n      <th>4</th>\n      <td>60444</td>\n      <td>morris</td>\n      <td></td>\n      <td>mashon jr</td>\n      <td>pol</td>\n      <td>9/1/2006</td>\n      <td>3/18/2011</td>\n      <td>13.24</td>\n      <td>hourly</td>\n      <td>male</td>\n      <td>2020</td>\n      <td>Ponchatoula PD</td>\n      <td>51ec760ee7744345bae7b42105924ebb</td>\n    </tr>\n    <tr>\n      <th>...</th>\n      <td>...</td>\n      <td>...</td>\n      <td>...</td>\n      <td>...</td>\n      <td>...</td>\n      <td>...</td>\n      <td>...</td>\n      <td>...</td>\n      <td>...</td>\n      <td>...</td>\n      <td>...</td>\n      <td>...</td>\n      <td>...</td>\n    </tr>\n    <tr>\n      <th>71</th>\n      <td>60584</td>\n      <td>frank</td>\n      <td>s</td>\n      <td>tallia</td>\n      <td>pol</td>\n      <td>9/30/2017</td>\n      <td>NaN</td>\n      <td>13.74</td>\n      <td>hourly</td>\n      <td>male</td>\n      <td>2020</td>\n      <td>Ponchatoula PD</td>\n      <td>5bd47649fcb9d0b089dcedcd6d6139bf</td>\n    </tr>\n    <tr>\n      <th>72</th>\n      <td>60520</td>\n      <td>damieon</td>\n      <td>r</td>\n      <td>tanner</td>\n      <td>pol</td>\n      <td>2/6/2012</td>\n      <td>NaN</td>\n      <td>17.63</td>\n      <td>hourly</td>\n      <td>male</td>\n      <td>2020</td>\n      <td>Ponchatoula PD</td>\n      <td>2fca0b43a7947168ad334eb6f2ca2381</td>\n    </tr>\n    <tr>\n      <th>73</th>\n      <td>60612</td>\n      <td>patrick</td>\n      <td></td>\n      <td>trammel</td>\n      <td>pol</td>\n      <td>8/13/2019</td>\n      <td>NaN</td>\n      <td>14.49</td>\n      <td>hourly</td>\n      <td>male</td>\n      <td>2020</td>\n      <td>Ponchatoula PD</td>\n      <td>a83867807b8e43ca32ee806db593ede2</td>\n    </tr>\n    <tr>\n      <th>74</th>\n      <td>60547</td>\n      <td>curtis</td>\n      <td>j</td>\n      <td>whitaker</td>\n      <td>pol</td>\n      <td>1/23/2015</td>\n      <td>NaN</td>\n      <td>15.70</td>\n      <td>hourly</td>\n      <td>male</td>\n      <td>2020</td>\n      <td>Ponchatoula PD</td>\n      <td>051301494cbb18ec2574ce6973fc3c00</td>\n    </tr>\n    <tr>\n      <th>75</th>\n      <td>60531</td>\n      <td>nicole</td>\n      <td></td>\n      <td>williams</td>\n      <td>disp</td>\n      <td>7/6/2013</td>\n      <td>NaN</td>\n      <td>14.66</td>\n      <td>hourly</td>\n      <td>female</td>\n      <td>2020</td>\n      <td>Ponchatoula PD</td>\n      <td>a7086182b548320b1c87c7da70eb6598</td>\n    </tr>\n  </tbody>\n</table>\n<p>76 rows × 13 columns</p>\n</div>"
     },
     "metadata": {},
     "execution_count": 2
    }
   ],
   "source": [
    "df = clean()\n",
    "df"
   ]
  },
  {
   "cell_type": "code",
   "execution_count": 3,
   "metadata": {},
   "outputs": [
    {
     "output_type": "error",
     "ename": "KeyError",
     "evalue": "'class'",
     "traceback": [
      "\u001b[0;31m---------------------------------------------------------------------------\u001b[0m",
      "\u001b[0;31mKeyError\u001b[0m                                  Traceback (most recent call last)",
      "\u001b[0;32m~/.virtualenvs/base/lib/python3.9/site-packages/pandas/core/indexes/base.py\u001b[0m in \u001b[0;36mget_loc\u001b[0;34m(self, key, method, tolerance)\u001b[0m\n\u001b[1;32m   3079\u001b[0m             \u001b[0;32mtry\u001b[0m\u001b[0;34m:\u001b[0m\u001b[0;34m\u001b[0m\u001b[0;34m\u001b[0m\u001b[0m\n\u001b[0;32m-> 3080\u001b[0;31m                 \u001b[0;32mreturn\u001b[0m \u001b[0mself\u001b[0m\u001b[0;34m.\u001b[0m\u001b[0m_engine\u001b[0m\u001b[0;34m.\u001b[0m\u001b[0mget_loc\u001b[0m\u001b[0;34m(\u001b[0m\u001b[0mcasted_key\u001b[0m\u001b[0;34m)\u001b[0m\u001b[0;34m\u001b[0m\u001b[0;34m\u001b[0m\u001b[0m\n\u001b[0m\u001b[1;32m   3081\u001b[0m             \u001b[0;32mexcept\u001b[0m \u001b[0mKeyError\u001b[0m \u001b[0;32mas\u001b[0m \u001b[0merr\u001b[0m\u001b[0;34m:\u001b[0m\u001b[0;34m\u001b[0m\u001b[0;34m\u001b[0m\u001b[0m\n",
      "\u001b[0;32mpandas/_libs/index.pyx\u001b[0m in \u001b[0;36mpandas._libs.index.IndexEngine.get_loc\u001b[0;34m()\u001b[0m\n",
      "\u001b[0;32mpandas/_libs/index.pyx\u001b[0m in \u001b[0;36mpandas._libs.index.IndexEngine.get_loc\u001b[0;34m()\u001b[0m\n",
      "\u001b[0;32mpandas/_libs/hashtable_class_helper.pxi\u001b[0m in \u001b[0;36mpandas._libs.hashtable.PyObjectHashTable.get_item\u001b[0;34m()\u001b[0m\n",
      "\u001b[0;32mpandas/_libs/hashtable_class_helper.pxi\u001b[0m in \u001b[0;36mpandas._libs.hashtable.PyObjectHashTable.get_item\u001b[0;34m()\u001b[0m\n",
      "\u001b[0;31mKeyError\u001b[0m: 'class'",
      "\nThe above exception was the direct cause of the following exception:\n",
      "\u001b[0;31mKeyError\u001b[0m                                  Traceback (most recent call last)",
      "\u001b[0;32m<ipython-input-3-f6f1bbe12775>\u001b[0m in \u001b[0;36m<module>\u001b[0;34m\u001b[0m\n\u001b[0;32m----> 1\u001b[0;31m \u001b[0mdf\u001b[0m\u001b[0;34m[\u001b[0m\u001b[0;34m'class'\u001b[0m\u001b[0;34m]\u001b[0m\u001b[0;34m.\u001b[0m\u001b[0munique\u001b[0m\u001b[0;34m(\u001b[0m\u001b[0;34m)\u001b[0m\u001b[0;34m\u001b[0m\u001b[0;34m\u001b[0m\u001b[0m\n\u001b[0m",
      "\u001b[0;32m~/.virtualenvs/base/lib/python3.9/site-packages/pandas/core/frame.py\u001b[0m in \u001b[0;36m__getitem__\u001b[0;34m(self, key)\u001b[0m\n\u001b[1;32m   3022\u001b[0m             \u001b[0;32mif\u001b[0m \u001b[0mself\u001b[0m\u001b[0;34m.\u001b[0m\u001b[0mcolumns\u001b[0m\u001b[0;34m.\u001b[0m\u001b[0mnlevels\u001b[0m \u001b[0;34m>\u001b[0m \u001b[0;36m1\u001b[0m\u001b[0;34m:\u001b[0m\u001b[0;34m\u001b[0m\u001b[0;34m\u001b[0m\u001b[0m\n\u001b[1;32m   3023\u001b[0m                 \u001b[0;32mreturn\u001b[0m \u001b[0mself\u001b[0m\u001b[0;34m.\u001b[0m\u001b[0m_getitem_multilevel\u001b[0m\u001b[0;34m(\u001b[0m\u001b[0mkey\u001b[0m\u001b[0;34m)\u001b[0m\u001b[0;34m\u001b[0m\u001b[0;34m\u001b[0m\u001b[0m\n\u001b[0;32m-> 3024\u001b[0;31m             \u001b[0mindexer\u001b[0m \u001b[0;34m=\u001b[0m \u001b[0mself\u001b[0m\u001b[0;34m.\u001b[0m\u001b[0mcolumns\u001b[0m\u001b[0;34m.\u001b[0m\u001b[0mget_loc\u001b[0m\u001b[0;34m(\u001b[0m\u001b[0mkey\u001b[0m\u001b[0;34m)\u001b[0m\u001b[0;34m\u001b[0m\u001b[0;34m\u001b[0m\u001b[0m\n\u001b[0m\u001b[1;32m   3025\u001b[0m             \u001b[0;32mif\u001b[0m \u001b[0mis_integer\u001b[0m\u001b[0;34m(\u001b[0m\u001b[0mindexer\u001b[0m\u001b[0;34m)\u001b[0m\u001b[0;34m:\u001b[0m\u001b[0;34m\u001b[0m\u001b[0;34m\u001b[0m\u001b[0m\n\u001b[1;32m   3026\u001b[0m                 \u001b[0mindexer\u001b[0m \u001b[0;34m=\u001b[0m \u001b[0;34m[\u001b[0m\u001b[0mindexer\u001b[0m\u001b[0;34m]\u001b[0m\u001b[0;34m\u001b[0m\u001b[0;34m\u001b[0m\u001b[0m\n",
      "\u001b[0;32m~/.virtualenvs/base/lib/python3.9/site-packages/pandas/core/indexes/base.py\u001b[0m in \u001b[0;36mget_loc\u001b[0;34m(self, key, method, tolerance)\u001b[0m\n\u001b[1;32m   3080\u001b[0m                 \u001b[0;32mreturn\u001b[0m \u001b[0mself\u001b[0m\u001b[0;34m.\u001b[0m\u001b[0m_engine\u001b[0m\u001b[0;34m.\u001b[0m\u001b[0mget_loc\u001b[0m\u001b[0;34m(\u001b[0m\u001b[0mcasted_key\u001b[0m\u001b[0;34m)\u001b[0m\u001b[0;34m\u001b[0m\u001b[0;34m\u001b[0m\u001b[0m\n\u001b[1;32m   3081\u001b[0m             \u001b[0;32mexcept\u001b[0m \u001b[0mKeyError\u001b[0m \u001b[0;32mas\u001b[0m \u001b[0merr\u001b[0m\u001b[0;34m:\u001b[0m\u001b[0;34m\u001b[0m\u001b[0;34m\u001b[0m\u001b[0m\n\u001b[0;32m-> 3082\u001b[0;31m                 \u001b[0;32mraise\u001b[0m \u001b[0mKeyError\u001b[0m\u001b[0;34m(\u001b[0m\u001b[0mkey\u001b[0m\u001b[0;34m)\u001b[0m \u001b[0;32mfrom\u001b[0m \u001b[0merr\u001b[0m\u001b[0;34m\u001b[0m\u001b[0;34m\u001b[0m\u001b[0m\n\u001b[0m\u001b[1;32m   3083\u001b[0m \u001b[0;34m\u001b[0m\u001b[0m\n\u001b[1;32m   3084\u001b[0m         \u001b[0;32mif\u001b[0m \u001b[0mtolerance\u001b[0m \u001b[0;32mis\u001b[0m \u001b[0;32mnot\u001b[0m \u001b[0;32mNone\u001b[0m\u001b[0;34m:\u001b[0m\u001b[0;34m\u001b[0m\u001b[0;34m\u001b[0m\u001b[0m\n",
      "\u001b[0;31mKeyError\u001b[0m: 'class'"
     ]
    }
   ],
   "source": [
    "df['class'].unique()"
   ]
  },
  {
   "cell_type": "code",
   "execution_count": null,
   "metadata": {},
   "outputs": [],
   "source": []
  }
 ]
}