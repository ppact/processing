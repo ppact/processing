{
 "metadata": {
  "language_info": {
   "codemirror_mode": {
    "name": "ipython",
    "version": 3
   },
   "file_extension": ".py",
   "mimetype": "text/x-python",
   "name": "python",
   "nbconvert_exporter": "python",
   "pygments_lexer": "ipython3",
   "version": "3.9.2"
  },
  "orig_nbformat": 2,
  "kernelspec": {
   "name": "python3",
   "display_name": "Python 3.9.2 64-bit ('base': virtualenvwrapper)"
  },
  "interpreter": {
   "hash": "55d6dfa6f6295e03bf132df3e61c1565ff1c22b645ef82a5638b280b97b3597b"
  }
 },
 "nbformat": 4,
 "nbformat_minor": 2,
 "cells": [
  {
   "cell_type": "code",
   "execution_count": 1,
   "metadata": {},
   "outputs": [],
   "source": [
    "import re\n",
    "import sys; sys.path.append(\"../\")\n",
    "\n",
    "import numpy as np\n",
    "import pandas as pd\n",
    "from datamatch import (\n",
    "    ColumnsIndex, StringSimilarity, JaroWinklerSimilarity, DateSimilarity, ThresholdMatcher\n",
    ")\n",
    "\n",
    "from lib.columns import rearrange_complaint_columns\n",
    "from lib.explore import print_df\n",
    "from clean.baton_rouge_pd_cprr import clean_18\n",
    "from clean.baton_rouge_csd_pprr import clean_17 as clean_csd_17, clean_19 as clean_csd_19\n",
    "from clean.baton_rouge_pd_pprr import clean as clean_pprr"
   ]
  },
  {
   "cell_type": "code",
   "execution_count": 2,
   "metadata": {},
   "outputs": [
    {
     "output_type": "execute_result",
     "data": {
      "text/plain": [
       "    rank_desc badge_no     last_name   first_name middle_initial  \\\n",
       "0         cpl      291        abadie     jonathan              m   \n",
       "1         cpl      457         acree        jason              k   \n",
       "2         off     1211         adams        aimee                  \n",
       "3         off     1201         adams    dominique                  \n",
       "4         off     1107  adams-walker        ebony                  \n",
       "..        ...      ...           ...          ...            ...   \n",
       "605       sgt      170       woodard      rodrick              e   \n",
       "606       cpl      275      woodring       steven              z   \n",
       "607       cpl      430        wright  christopher              j   \n",
       "608       sgt      176      young jr       donald              p   \n",
       "609       off     1064       zeitler      michael                  \n",
       "\n",
       "    data_production_year          agency                               uid  \n",
       "0                   2021  Baton Rouge PD  572b5ea334efc3ff94da634ae323b930  \n",
       "1                   2021  Baton Rouge PD  a02b3a98a05c9b8fedf038032d0b094e  \n",
       "2                   2021  Baton Rouge PD  b6f1552b3c0ef8c8b17562704971dbf0  \n",
       "3                   2021  Baton Rouge PD  48a35ff775efcb6cb53dbea5127a38fc  \n",
       "4                   2021  Baton Rouge PD  2b3884808972f05549fe89ed93cdfff7  \n",
       "..                   ...             ...                               ...  \n",
       "605                 2021  Baton Rouge PD  6d82e73c3d401a0424eef198d7ace669  \n",
       "606                 2021  Baton Rouge PD  86ed1bb573d54cc9791cd7adcccb68d5  \n",
       "607                 2021  Baton Rouge PD  464b671eff4b54c1765d114ea064d8ac  \n",
       "608                 2021  Baton Rouge PD  6503fb0a070a37136a1e291cf7430915  \n",
       "609                 2021  Baton Rouge PD  4adb9464f0dd2938a375bf3bdeb6a913  \n",
       "\n",
       "[610 rows x 8 columns]"
      ],
      "text/html": "<div>\n<style scoped>\n    .dataframe tbody tr th:only-of-type {\n        vertical-align: middle;\n    }\n\n    .dataframe tbody tr th {\n        vertical-align: top;\n    }\n\n    .dataframe thead th {\n        text-align: right;\n    }\n</style>\n<table border=\"1\" class=\"dataframe\">\n  <thead>\n    <tr style=\"text-align: right;\">\n      <th></th>\n      <th>rank_desc</th>\n      <th>badge_no</th>\n      <th>last_name</th>\n      <th>first_name</th>\n      <th>middle_initial</th>\n      <th>data_production_year</th>\n      <th>agency</th>\n      <th>uid</th>\n    </tr>\n  </thead>\n  <tbody>\n    <tr>\n      <th>0</th>\n      <td>cpl</td>\n      <td>291</td>\n      <td>abadie</td>\n      <td>jonathan</td>\n      <td>m</td>\n      <td>2021</td>\n      <td>Baton Rouge PD</td>\n      <td>572b5ea334efc3ff94da634ae323b930</td>\n    </tr>\n    <tr>\n      <th>1</th>\n      <td>cpl</td>\n      <td>457</td>\n      <td>acree</td>\n      <td>jason</td>\n      <td>k</td>\n      <td>2021</td>\n      <td>Baton Rouge PD</td>\n      <td>a02b3a98a05c9b8fedf038032d0b094e</td>\n    </tr>\n    <tr>\n      <th>2</th>\n      <td>off</td>\n      <td>1211</td>\n      <td>adams</td>\n      <td>aimee</td>\n      <td></td>\n      <td>2021</td>\n      <td>Baton Rouge PD</td>\n      <td>b6f1552b3c0ef8c8b17562704971dbf0</td>\n    </tr>\n    <tr>\n      <th>3</th>\n      <td>off</td>\n      <td>1201</td>\n      <td>adams</td>\n      <td>dominique</td>\n      <td></td>\n      <td>2021</td>\n      <td>Baton Rouge PD</td>\n      <td>48a35ff775efcb6cb53dbea5127a38fc</td>\n    </tr>\n    <tr>\n      <th>4</th>\n      <td>off</td>\n      <td>1107</td>\n      <td>adams-walker</td>\n      <td>ebony</td>\n      <td></td>\n      <td>2021</td>\n      <td>Baton Rouge PD</td>\n      <td>2b3884808972f05549fe89ed93cdfff7</td>\n    </tr>\n    <tr>\n      <th>...</th>\n      <td>...</td>\n      <td>...</td>\n      <td>...</td>\n      <td>...</td>\n      <td>...</td>\n      <td>...</td>\n      <td>...</td>\n      <td>...</td>\n    </tr>\n    <tr>\n      <th>605</th>\n      <td>sgt</td>\n      <td>170</td>\n      <td>woodard</td>\n      <td>rodrick</td>\n      <td>e</td>\n      <td>2021</td>\n      <td>Baton Rouge PD</td>\n      <td>6d82e73c3d401a0424eef198d7ace669</td>\n    </tr>\n    <tr>\n      <th>606</th>\n      <td>cpl</td>\n      <td>275</td>\n      <td>woodring</td>\n      <td>steven</td>\n      <td>z</td>\n      <td>2021</td>\n      <td>Baton Rouge PD</td>\n      <td>86ed1bb573d54cc9791cd7adcccb68d5</td>\n    </tr>\n    <tr>\n      <th>607</th>\n      <td>cpl</td>\n      <td>430</td>\n      <td>wright</td>\n      <td>christopher</td>\n      <td>j</td>\n      <td>2021</td>\n      <td>Baton Rouge PD</td>\n      <td>464b671eff4b54c1765d114ea064d8ac</td>\n    </tr>\n    <tr>\n      <th>608</th>\n      <td>sgt</td>\n      <td>176</td>\n      <td>young jr</td>\n      <td>donald</td>\n      <td>p</td>\n      <td>2021</td>\n      <td>Baton Rouge PD</td>\n      <td>6503fb0a070a37136a1e291cf7430915</td>\n    </tr>\n    <tr>\n      <th>609</th>\n      <td>off</td>\n      <td>1064</td>\n      <td>zeitler</td>\n      <td>michael</td>\n      <td></td>\n      <td>2021</td>\n      <td>Baton Rouge PD</td>\n      <td>4adb9464f0dd2938a375bf3bdeb6a913</td>\n    </tr>\n  </tbody>\n</table>\n<p>610 rows × 8 columns</p>\n</div>"
     },
     "metadata": {},
     "execution_count": 2
    }
   ],
   "source": [
    "df17, df19 = clean_csd_17(), clean_csd_19()\n",
    "df = clean_pprr()\n",
    "df"
   ]
  },
  {
   "cell_type": "code",
   "execution_count": 11,
   "metadata": {},
   "outputs": [
    {
     "output_type": "execute_result",
     "data": {
      "text/plain": [
       "610"
      ]
     },
     "metadata": {},
     "execution_count": 11
    }
   ],
   "source": [
    "len(df.uid.unique())"
   ]
  },
  {
   "cell_type": "code",
   "execution_count": 9,
   "metadata": {},
   "outputs": [
    {
     "output_type": "execute_result",
     "data": {
      "text/plain": [
       "1660"
      ]
     },
     "metadata": {},
     "execution_count": 9
    }
   ],
   "source": [
    "len(df17.uid.unique())"
   ]
  },
  {
   "cell_type": "code",
   "execution_count": 10,
   "metadata": {},
   "outputs": [
    {
     "output_type": "execute_result",
     "data": {
      "text/plain": [
       "1057"
      ]
     },
     "metadata": {},
     "execution_count": 10
    }
   ],
   "source": [
    "len(df19.uid.unique())"
   ]
  },
  {
   "cell_type": "code",
   "execution_count": null,
   "metadata": {},
   "outputs": [],
   "source": []
  }
 ]
}