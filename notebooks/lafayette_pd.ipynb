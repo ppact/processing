{
 "metadata": {
  "language_info": {
   "codemirror_mode": {
    "name": "ipython",
    "version": 3
   },
   "file_extension": ".py",
   "mimetype": "text/x-python",
   "name": "python",
   "nbconvert_exporter": "python",
   "pygments_lexer": "ipython3",
   "version": "3.9.2"
  },
  "orig_nbformat": 4,
  "kernelspec": {
   "name": "python3",
   "display_name": "Python 3.9.2 64-bit ('base': virtualenvwrapper)"
  },
  "interpreter": {
   "hash": "55d6dfa6f6295e03bf132df3e61c1565ff1c22b645ef82a5638b280b97b3597b"
  }
 },
 "nbformat": 4,
 "nbformat_minor": 2,
 "cells": [
  {
   "cell_type": "code",
   "execution_count": 1,
   "metadata": {},
   "outputs": [],
   "source": [
    "import sys; sys.path.append('../')\n",
    "\n",
    "import pandas as pd\n",
    "\n",
    "from clean.lafayette_pd import clean_pprr, clean_cprr"
   ]
  },
  {
   "cell_type": "code",
   "execution_count": 2,
   "metadata": {},
   "outputs": [
    {
     "output_type": "stream",
     "name": "stdout",
     "text": [
      "standardize_from_lookup_table: unmatched sequences:\n  {'-', ' ', '/', '/ '}\nstandardize_from_lookup_table: unmatched sequences:\n  {' - -', '', ' -', ' - ', ' /', '.', '- ', '; allred- ', '/', '; ', ' - trent (overturned - ', './', ' ', ') kyle ', '-', '- bajat- ', '/ ', ':', ': '}\n"
     ]
    },
    {
     "output_type": "execute_result",
     "data": {
      "text/plain": [
       "    tracking_number                                         allegation  \\\n",
       "0        AD2015-001                                               cubo   \n",
       "1        AD2015-001                                               cubo   \n",
       "2        AD2015-002                                 falsifying records   \n",
       "3        AD2015-003  destruction of evidence; violation of informan...   \n",
       "4        AD2015-004                                               cubo   \n",
       "..              ...                                                ...   \n",
       "220      SL2020-010       violation of pursuit policy; bwc; untruthful   \n",
       "221      SL2020-011                               professional conduct   \n",
       "222      SL2020-013                                                      \n",
       "223      SL2020-013                                                      \n",
       "224      SL2020-013         professional conduct; failure to supervise   \n",
       "\n",
       "    receive_date complete_date                investigator  \\\n",
       "0      2/12/2015     3/31/2015      detective ronald clark   \n",
       "1      2/12/2015     3/31/2015      detective ronald clark   \n",
       "2      3/24/2015     5/28/2015    detective patrick pattum   \n",
       "3      5/22/2015     7/20/2015  detective jonathan sanchez   \n",
       "4      5/22/2015     7/16/2015    detective patrick pattum   \n",
       "..           ...           ...                         ...   \n",
       "220   10/29/2020           NaN       lieutenant washington   \n",
       "221   11/10/2020           NaN       lieutenant washington   \n",
       "222   12/23/2020           NaN   lieutenant brooks reviere   \n",
       "223   12/23/2020           NaN   lieutenant brooks reviere   \n",
       "224   12/23/2020           NaN   lieutenant brooks reviere   \n",
       "\n",
       "                           disposition rank_desc first_name   last_name  \\\n",
       "0       sustained; letter of reprimand       NaN                cormier   \n",
       "1       sustained; letter of reprimand  corporal                  chris   \n",
       "2               sustained; termination   officer      galen      conrad   \n",
       "3    letter of caution; training issue   officer   kenderis       handy   \n",
       "4                            unfounded   officer     dustin    lavergne   \n",
       "..                                 ...       ...        ...         ...   \n",
       "220                                          NaN          j  desormeaux   \n",
       "221                                          NaN      daryl   boudreaux   \n",
       "222                                          NaN     thomas    marceaux   \n",
       "223                                          NaN      david      mouton   \n",
       "224                                          NaN       paul     trouard   \n",
       "\n",
       "    investigator_rank investigator_first_name investigator_last_name  \\\n",
       "0           detective                  ronald                  clark   \n",
       "1           detective                  ronald                  clark   \n",
       "2           detective                 patrick                 pattum   \n",
       "3           detective                jonathan                sanchez   \n",
       "4           detective                 patrick                 pattum   \n",
       "..                ...                     ...                    ...   \n",
       "220        lieutenant                                     washington   \n",
       "221        lieutenant                                     washington   \n",
       "222        lieutenant                  brooks                reviere   \n",
       "223        lieutenant                  brooks                reviere   \n",
       "224        lieutenant                  brooks                reviere   \n",
       "\n",
       "     data_production_year        agency                               uid  \\\n",
       "0                    2020  Lafayette PD  230f14061664b195ff51d65a4e86cb38   \n",
       "1                    2020  Lafayette PD  331218d5fadac6ea7b274ee7cfa5f916   \n",
       "2                    2020  Lafayette PD  3380088a263a2a126d6591633ef22f9e   \n",
       "3                    2020  Lafayette PD  c6c0d5824bf4ec693a4c855b281484fa   \n",
       "4                    2020  Lafayette PD  238f23e6dd30bbba5f26f56dfc3a371b   \n",
       "..                    ...           ...                               ...   \n",
       "220                  2020  Lafayette PD  9993ed1066ed02d57e91f7c470065f7f   \n",
       "221                  2020  Lafayette PD  72b7574e984e06133db4698ad651d580   \n",
       "222                  2020  Lafayette PD  fdec9808e0bcaddf615a11e03323c2a4   \n",
       "223                  2020  Lafayette PD  ac52d3799c0bc0871b91a6ed3f816cab   \n",
       "224                  2020  Lafayette PD  c7a1416b47ae99c74a9b0fc2ba5eb8ad   \n",
       "\n",
       "                     investigator_uid                     complaint_uid  \n",
       "0    b9232ceb0e4db1a5a08f23be655a683c  ba9e19c5151eca60aaf13aa36c49f2d4  \n",
       "1    b9232ceb0e4db1a5a08f23be655a683c  26dcf638dc6fea0879e8ccb6bdfe0783  \n",
       "2    7c46cb5690cf1d6c743f90f76cbbdd8f  340bdec8269cc723889b949a26a60166  \n",
       "3    f8c1550f15ce790f9fcf2e58bf7f5cd2  3fc92fc5ab3f4dfaab38300a485a23b7  \n",
       "4    7c46cb5690cf1d6c743f90f76cbbdd8f  682262ce7f5fc632d50149c99a1dfe60  \n",
       "..                                ...                               ...  \n",
       "220  a898e22eb25bf5d917bc113e009b6472  3f6d99eefdab66f0eeed16f652813578  \n",
       "221  a898e22eb25bf5d917bc113e009b6472  410da2c849fc61ed7036d1ba88b571d5  \n",
       "222  ed7e77b01f946ec819bf8c51d1020051  109c5a4452e4bf531f50e6e598544465  \n",
       "223  ed7e77b01f946ec819bf8c51d1020051  a65ad0b3532b43a8d5848fc6e4dde809  \n",
       "224  ed7e77b01f946ec819bf8c51d1020051  1f917878bdf1f90b33b97521f138f0fb  \n",
       "\n",
       "[224 rows x 17 columns]"
      ],
      "text/html": "<div>\n<style scoped>\n    .dataframe tbody tr th:only-of-type {\n        vertical-align: middle;\n    }\n\n    .dataframe tbody tr th {\n        vertical-align: top;\n    }\n\n    .dataframe thead th {\n        text-align: right;\n    }\n</style>\n<table border=\"1\" class=\"dataframe\">\n  <thead>\n    <tr style=\"text-align: right;\">\n      <th></th>\n      <th>tracking_number</th>\n      <th>allegation</th>\n      <th>receive_date</th>\n      <th>complete_date</th>\n      <th>investigator</th>\n      <th>disposition</th>\n      <th>rank_desc</th>\n      <th>first_name</th>\n      <th>last_name</th>\n      <th>investigator_rank</th>\n      <th>investigator_first_name</th>\n      <th>investigator_last_name</th>\n      <th>data_production_year</th>\n      <th>agency</th>\n      <th>uid</th>\n      <th>investigator_uid</th>\n      <th>complaint_uid</th>\n    </tr>\n  </thead>\n  <tbody>\n    <tr>\n      <th>0</th>\n      <td>AD2015-001</td>\n      <td>cubo</td>\n      <td>2/12/2015</td>\n      <td>3/31/2015</td>\n      <td>detective ronald clark</td>\n      <td>sustained; letter of reprimand</td>\n      <td>NaN</td>\n      <td></td>\n      <td>cormier</td>\n      <td>detective</td>\n      <td>ronald</td>\n      <td>clark</td>\n      <td>2020</td>\n      <td>Lafayette PD</td>\n      <td>230f14061664b195ff51d65a4e86cb38</td>\n      <td>b9232ceb0e4db1a5a08f23be655a683c</td>\n      <td>ba9e19c5151eca60aaf13aa36c49f2d4</td>\n    </tr>\n    <tr>\n      <th>1</th>\n      <td>AD2015-001</td>\n      <td>cubo</td>\n      <td>2/12/2015</td>\n      <td>3/31/2015</td>\n      <td>detective ronald clark</td>\n      <td>sustained; letter of reprimand</td>\n      <td>corporal</td>\n      <td></td>\n      <td>chris</td>\n      <td>detective</td>\n      <td>ronald</td>\n      <td>clark</td>\n      <td>2020</td>\n      <td>Lafayette PD</td>\n      <td>331218d5fadac6ea7b274ee7cfa5f916</td>\n      <td>b9232ceb0e4db1a5a08f23be655a683c</td>\n      <td>26dcf638dc6fea0879e8ccb6bdfe0783</td>\n    </tr>\n    <tr>\n      <th>2</th>\n      <td>AD2015-002</td>\n      <td>falsifying records</td>\n      <td>3/24/2015</td>\n      <td>5/28/2015</td>\n      <td>detective patrick pattum</td>\n      <td>sustained; termination</td>\n      <td>officer</td>\n      <td>galen</td>\n      <td>conrad</td>\n      <td>detective</td>\n      <td>patrick</td>\n      <td>pattum</td>\n      <td>2020</td>\n      <td>Lafayette PD</td>\n      <td>3380088a263a2a126d6591633ef22f9e</td>\n      <td>7c46cb5690cf1d6c743f90f76cbbdd8f</td>\n      <td>340bdec8269cc723889b949a26a60166</td>\n    </tr>\n    <tr>\n      <th>3</th>\n      <td>AD2015-003</td>\n      <td>destruction of evidence; violation of informan...</td>\n      <td>5/22/2015</td>\n      <td>7/20/2015</td>\n      <td>detective jonathan sanchez</td>\n      <td>letter of caution; training issue</td>\n      <td>officer</td>\n      <td>kenderis</td>\n      <td>handy</td>\n      <td>detective</td>\n      <td>jonathan</td>\n      <td>sanchez</td>\n      <td>2020</td>\n      <td>Lafayette PD</td>\n      <td>c6c0d5824bf4ec693a4c855b281484fa</td>\n      <td>f8c1550f15ce790f9fcf2e58bf7f5cd2</td>\n      <td>3fc92fc5ab3f4dfaab38300a485a23b7</td>\n    </tr>\n    <tr>\n      <th>4</th>\n      <td>AD2015-004</td>\n      <td>cubo</td>\n      <td>5/22/2015</td>\n      <td>7/16/2015</td>\n      <td>detective patrick pattum</td>\n      <td>unfounded</td>\n      <td>officer</td>\n      <td>dustin</td>\n      <td>lavergne</td>\n      <td>detective</td>\n      <td>patrick</td>\n      <td>pattum</td>\n      <td>2020</td>\n      <td>Lafayette PD</td>\n      <td>238f23e6dd30bbba5f26f56dfc3a371b</td>\n      <td>7c46cb5690cf1d6c743f90f76cbbdd8f</td>\n      <td>682262ce7f5fc632d50149c99a1dfe60</td>\n    </tr>\n    <tr>\n      <th>...</th>\n      <td>...</td>\n      <td>...</td>\n      <td>...</td>\n      <td>...</td>\n      <td>...</td>\n      <td>...</td>\n      <td>...</td>\n      <td>...</td>\n      <td>...</td>\n      <td>...</td>\n      <td>...</td>\n      <td>...</td>\n      <td>...</td>\n      <td>...</td>\n      <td>...</td>\n      <td>...</td>\n      <td>...</td>\n    </tr>\n    <tr>\n      <th>220</th>\n      <td>SL2020-010</td>\n      <td>violation of pursuit policy; bwc; untruthful</td>\n      <td>10/29/2020</td>\n      <td>NaN</td>\n      <td>lieutenant washington</td>\n      <td></td>\n      <td>NaN</td>\n      <td>j</td>\n      <td>desormeaux</td>\n      <td>lieutenant</td>\n      <td></td>\n      <td>washington</td>\n      <td>2020</td>\n      <td>Lafayette PD</td>\n      <td>9993ed1066ed02d57e91f7c470065f7f</td>\n      <td>a898e22eb25bf5d917bc113e009b6472</td>\n      <td>3f6d99eefdab66f0eeed16f652813578</td>\n    </tr>\n    <tr>\n      <th>221</th>\n      <td>SL2020-011</td>\n      <td>professional conduct</td>\n      <td>11/10/2020</td>\n      <td>NaN</td>\n      <td>lieutenant washington</td>\n      <td></td>\n      <td>NaN</td>\n      <td>daryl</td>\n      <td>boudreaux</td>\n      <td>lieutenant</td>\n      <td></td>\n      <td>washington</td>\n      <td>2020</td>\n      <td>Lafayette PD</td>\n      <td>72b7574e984e06133db4698ad651d580</td>\n      <td>a898e22eb25bf5d917bc113e009b6472</td>\n      <td>410da2c849fc61ed7036d1ba88b571d5</td>\n    </tr>\n    <tr>\n      <th>222</th>\n      <td>SL2020-013</td>\n      <td></td>\n      <td>12/23/2020</td>\n      <td>NaN</td>\n      <td>lieutenant brooks reviere</td>\n      <td></td>\n      <td>NaN</td>\n      <td>thomas</td>\n      <td>marceaux</td>\n      <td>lieutenant</td>\n      <td>brooks</td>\n      <td>reviere</td>\n      <td>2020</td>\n      <td>Lafayette PD</td>\n      <td>fdec9808e0bcaddf615a11e03323c2a4</td>\n      <td>ed7e77b01f946ec819bf8c51d1020051</td>\n      <td>109c5a4452e4bf531f50e6e598544465</td>\n    </tr>\n    <tr>\n      <th>223</th>\n      <td>SL2020-013</td>\n      <td></td>\n      <td>12/23/2020</td>\n      <td>NaN</td>\n      <td>lieutenant brooks reviere</td>\n      <td></td>\n      <td>NaN</td>\n      <td>david</td>\n      <td>mouton</td>\n      <td>lieutenant</td>\n      <td>brooks</td>\n      <td>reviere</td>\n      <td>2020</td>\n      <td>Lafayette PD</td>\n      <td>ac52d3799c0bc0871b91a6ed3f816cab</td>\n      <td>ed7e77b01f946ec819bf8c51d1020051</td>\n      <td>a65ad0b3532b43a8d5848fc6e4dde809</td>\n    </tr>\n    <tr>\n      <th>224</th>\n      <td>SL2020-013</td>\n      <td>professional conduct; failure to supervise</td>\n      <td>12/23/2020</td>\n      <td>NaN</td>\n      <td>lieutenant brooks reviere</td>\n      <td></td>\n      <td>NaN</td>\n      <td>paul</td>\n      <td>trouard</td>\n      <td>lieutenant</td>\n      <td>brooks</td>\n      <td>reviere</td>\n      <td>2020</td>\n      <td>Lafayette PD</td>\n      <td>c7a1416b47ae99c74a9b0fc2ba5eb8ad</td>\n      <td>ed7e77b01f946ec819bf8c51d1020051</td>\n      <td>1f917878bdf1f90b33b97521f138f0fb</td>\n    </tr>\n  </tbody>\n</table>\n<p>224 rows × 17 columns</p>\n</div>"
     },
     "metadata": {},
     "execution_count": 2
    }
   ],
   "source": [
    "cprr = clean_cprr()\n",
    "cprr"
   ]
  },
  {
   "cell_type": "code",
   "execution_count": 3,
   "metadata": {},
   "outputs": [
    {
     "output_type": "execute_result",
     "data": {
      "text/plain": [
       "    tracking_number                                allegation receive_date  \\\n",
       "145      CC2015-012  racial profiling; civil rights violation   12/18/2015   \n",
       "\n",
       "    complete_date      investigator disposition rank_desc first_name  \\\n",
       "145        #28416  detective pattum   unfounded       NaN              \n",
       "\n",
       "    last_name investigator_rank investigator_first_name  \\\n",
       "145                   detective                           \n",
       "\n",
       "    investigator_last_name  data_production_year        agency  \\\n",
       "145                 pattum                  2020  Lafayette PD   \n",
       "\n",
       "                                  uid                  investigator_uid  \\\n",
       "145  8b01e61acc63cf0a0e410048cd0e5d2d  021fa9ee4a30fba65ecf4e0a61012796   \n",
       "\n",
       "                        complaint_uid  \n",
       "145  e82cc89f770306cac2b801803d592444  "
      ],
      "text/html": "<div>\n<style scoped>\n    .dataframe tbody tr th:only-of-type {\n        vertical-align: middle;\n    }\n\n    .dataframe tbody tr th {\n        vertical-align: top;\n    }\n\n    .dataframe thead th {\n        text-align: right;\n    }\n</style>\n<table border=\"1\" class=\"dataframe\">\n  <thead>\n    <tr style=\"text-align: right;\">\n      <th></th>\n      <th>tracking_number</th>\n      <th>allegation</th>\n      <th>receive_date</th>\n      <th>complete_date</th>\n      <th>investigator</th>\n      <th>disposition</th>\n      <th>rank_desc</th>\n      <th>first_name</th>\n      <th>last_name</th>\n      <th>investigator_rank</th>\n      <th>investigator_first_name</th>\n      <th>investigator_last_name</th>\n      <th>data_production_year</th>\n      <th>agency</th>\n      <th>uid</th>\n      <th>investigator_uid</th>\n      <th>complaint_uid</th>\n    </tr>\n  </thead>\n  <tbody>\n    <tr>\n      <th>145</th>\n      <td>CC2015-012</td>\n      <td>racial profiling; civil rights violation</td>\n      <td>12/18/2015</td>\n      <td>#28416</td>\n      <td>detective pattum</td>\n      <td>unfounded</td>\n      <td>NaN</td>\n      <td></td>\n      <td></td>\n      <td>detective</td>\n      <td></td>\n      <td>pattum</td>\n      <td>2020</td>\n      <td>Lafayette PD</td>\n      <td>8b01e61acc63cf0a0e410048cd0e5d2d</td>\n      <td>021fa9ee4a30fba65ecf4e0a61012796</td>\n      <td>e82cc89f770306cac2b801803d592444</td>\n    </tr>\n  </tbody>\n</table>\n</div>"
     },
     "metadata": {},
     "execution_count": 3
    }
   ],
   "source": [
    "cprr.loc[\n",
    "    ~cprr.complete_date.fillna('').str.match(r'\\d{1,2}/\\d{1,2}/\\d{4}')\n",
    "    & cprr.complete_date.notna()\n",
    "]"
   ]
  },
  {
   "cell_type": "code",
   "execution_count": 4,
   "metadata": {},
   "outputs": [
    {
     "output_type": "execute_result",
     "data": {
      "text/plain": [
       "   tracking_number       allegation receive_date complete_date investigator  \\\n",
       "96      AD2020-006  excessive force          NaN     5/11/2020      prevost   \n",
       "\n",
       "                                          disposition rank_desc first_name  \\\n",
       "96  suspension 1 day; terminated overturned by civ...       NaN     jeremy   \n",
       "\n",
       "   last_name investigator_rank investigator_first_name investigator_last_name  \\\n",
       "96    robert               NaN                                        prevost   \n",
       "\n",
       "    data_production_year        agency                               uid  \\\n",
       "96                  2020  Lafayette PD  45515e7ff34989f1639debc7c497807e   \n",
       "\n",
       "                    investigator_uid                     complaint_uid  \n",
       "96  64ac15cb07795d998b0e7df9cbf1d5ab  709d5cf3ded75d2c3832c10cfbe26ba0  "
      ],
      "text/html": "<div>\n<style scoped>\n    .dataframe tbody tr th:only-of-type {\n        vertical-align: middle;\n    }\n\n    .dataframe tbody tr th {\n        vertical-align: top;\n    }\n\n    .dataframe thead th {\n        text-align: right;\n    }\n</style>\n<table border=\"1\" class=\"dataframe\">\n  <thead>\n    <tr style=\"text-align: right;\">\n      <th></th>\n      <th>tracking_number</th>\n      <th>allegation</th>\n      <th>receive_date</th>\n      <th>complete_date</th>\n      <th>investigator</th>\n      <th>disposition</th>\n      <th>rank_desc</th>\n      <th>first_name</th>\n      <th>last_name</th>\n      <th>investigator_rank</th>\n      <th>investigator_first_name</th>\n      <th>investigator_last_name</th>\n      <th>data_production_year</th>\n      <th>agency</th>\n      <th>uid</th>\n      <th>investigator_uid</th>\n      <th>complaint_uid</th>\n    </tr>\n  </thead>\n  <tbody>\n    <tr>\n      <th>96</th>\n      <td>AD2020-006</td>\n      <td>excessive force</td>\n      <td>NaN</td>\n      <td>5/11/2020</td>\n      <td>prevost</td>\n      <td>suspension 1 day; terminated overturned by civ...</td>\n      <td>NaN</td>\n      <td>jeremy</td>\n      <td>robert</td>\n      <td>NaN</td>\n      <td></td>\n      <td>prevost</td>\n      <td>2020</td>\n      <td>Lafayette PD</td>\n      <td>45515e7ff34989f1639debc7c497807e</td>\n      <td>64ac15cb07795d998b0e7df9cbf1d5ab</td>\n      <td>709d5cf3ded75d2c3832c10cfbe26ba0</td>\n    </tr>\n  </tbody>\n</table>\n</div>"
     },
     "metadata": {},
     "execution_count": 4
    }
   ],
   "source": [
    "cprr.loc[~cprr.receive_date.fillna('').str.match(r'\\d{1,2}/\\d{1,2}/\\d{4}')]"
   ]
  },
  {
   "cell_type": "code",
   "execution_count": 5,
   "metadata": {},
   "outputs": [
    {
     "output_type": "execute_result",
     "data": {
      "text/plain": [
       "        sex   race birth_year    salary   hire_date  left_date  \\\n",
       "0      male  white       1988  56726.59   12/1/2015        NaN   \n",
       "1      male  white       1982  70340.19    2/8/2006        NaN   \n",
       "2      male  white       1969  81716.34   9/28/1998   2/2/2021   \n",
       "3      male  white       1988  49778.77    1/3/2017        NaN   \n",
       "4      male  white       1984  57706.27   4/27/2015        NaN   \n",
       "..      ...    ...        ...       ...         ...        ...   \n",
       "638    male  black       1952  20800.00    9/8/2020        NaN   \n",
       "639    male  white       1992  47940.05  12/26/2018        NaN   \n",
       "640    male  black       1985  42830.53    4/7/2008  7/10/2014   \n",
       "641    male  black       1997  48921.39   8/15/2018        NaN   \n",
       "642  female  white       1995  47940.05   1/27/2019        NaN   \n",
       "\n",
       "                  rank_desc salary_freq data_production_year        agency  \\\n",
       "0           police corporal      yearly                 2021  Lafayette PD   \n",
       "1    police senior corporal      yearly                 2021  Lafayette PD   \n",
       "2           police sergeant      yearly                 2021  Lafayette PD   \n",
       "3            police officer      yearly                 2021  Lafayette PD   \n",
       "4           police corporal      yearly                 2021  Lafayette PD   \n",
       "..                      ...         ...                  ...           ...   \n",
       "638   school crossing guard      yearly                 2021  Lafayette PD   \n",
       "639          police officer      yearly                 2021  Lafayette PD   \n",
       "640          police officer      yearly                 2021  Lafayette PD   \n",
       "641          police officer      yearly                 2021  Lafayette PD   \n",
       "642          police officer      yearly                 2021  Lafayette PD   \n",
       "\n",
       "      last_name first_name middle_initial                               uid  \n",
       "0       esterly     mathew              a  15fc8c2f635c978eabecddabad0b2930  \n",
       "1        mcnair      aaron              c  8a72325adb28ae2d367e05453de7fa8b  \n",
       "2    thibodeaux      aaron              w  8c9353fdaa5da5b083797ee02926f93c  \n",
       "3        arnett       adam              g  994b680d7d4680103b81a8f10a7802e1  \n",
       "4      bradford       adam              f  967c686e4217c6fd2dfbe71814c6f4c3  \n",
       "..          ...        ...            ...                               ...  \n",
       "638     ventroy     willis              j  f3799d811e280db8a2bb0934a4822d48  \n",
       "639      trahan    zachary              t  50f1adb76992bd481a0caab99b3eeca5  \n",
       "640    guillory   zairrick                 bd592852ae89985af6a5e7833d7368cf  \n",
       "641    narcisse    zakarie              t  b244a19fc5cbfd064874f4efe835391c  \n",
       "642    lavergne       zoie              j  90c0b92e25795b979c98406b61e361c8  \n",
       "\n",
       "[642 rows x 14 columns]"
      ],
      "text/html": "<div>\n<style scoped>\n    .dataframe tbody tr th:only-of-type {\n        vertical-align: middle;\n    }\n\n    .dataframe tbody tr th {\n        vertical-align: top;\n    }\n\n    .dataframe thead th {\n        text-align: right;\n    }\n</style>\n<table border=\"1\" class=\"dataframe\">\n  <thead>\n    <tr style=\"text-align: right;\">\n      <th></th>\n      <th>sex</th>\n      <th>race</th>\n      <th>birth_year</th>\n      <th>salary</th>\n      <th>hire_date</th>\n      <th>left_date</th>\n      <th>rank_desc</th>\n      <th>salary_freq</th>\n      <th>data_production_year</th>\n      <th>agency</th>\n      <th>last_name</th>\n      <th>first_name</th>\n      <th>middle_initial</th>\n      <th>uid</th>\n    </tr>\n  </thead>\n  <tbody>\n    <tr>\n      <th>0</th>\n      <td>male</td>\n      <td>white</td>\n      <td>1988</td>\n      <td>56726.59</td>\n      <td>12/1/2015</td>\n      <td>NaN</td>\n      <td>police corporal</td>\n      <td>yearly</td>\n      <td>2021</td>\n      <td>Lafayette PD</td>\n      <td>esterly</td>\n      <td>mathew</td>\n      <td>a</td>\n      <td>15fc8c2f635c978eabecddabad0b2930</td>\n    </tr>\n    <tr>\n      <th>1</th>\n      <td>male</td>\n      <td>white</td>\n      <td>1982</td>\n      <td>70340.19</td>\n      <td>2/8/2006</td>\n      <td>NaN</td>\n      <td>police senior corporal</td>\n      <td>yearly</td>\n      <td>2021</td>\n      <td>Lafayette PD</td>\n      <td>mcnair</td>\n      <td>aaron</td>\n      <td>c</td>\n      <td>8a72325adb28ae2d367e05453de7fa8b</td>\n    </tr>\n    <tr>\n      <th>2</th>\n      <td>male</td>\n      <td>white</td>\n      <td>1969</td>\n      <td>81716.34</td>\n      <td>9/28/1998</td>\n      <td>2/2/2021</td>\n      <td>police sergeant</td>\n      <td>yearly</td>\n      <td>2021</td>\n      <td>Lafayette PD</td>\n      <td>thibodeaux</td>\n      <td>aaron</td>\n      <td>w</td>\n      <td>8c9353fdaa5da5b083797ee02926f93c</td>\n    </tr>\n    <tr>\n      <th>3</th>\n      <td>male</td>\n      <td>white</td>\n      <td>1988</td>\n      <td>49778.77</td>\n      <td>1/3/2017</td>\n      <td>NaN</td>\n      <td>police officer</td>\n      <td>yearly</td>\n      <td>2021</td>\n      <td>Lafayette PD</td>\n      <td>arnett</td>\n      <td>adam</td>\n      <td>g</td>\n      <td>994b680d7d4680103b81a8f10a7802e1</td>\n    </tr>\n    <tr>\n      <th>4</th>\n      <td>male</td>\n      <td>white</td>\n      <td>1984</td>\n      <td>57706.27</td>\n      <td>4/27/2015</td>\n      <td>NaN</td>\n      <td>police corporal</td>\n      <td>yearly</td>\n      <td>2021</td>\n      <td>Lafayette PD</td>\n      <td>bradford</td>\n      <td>adam</td>\n      <td>f</td>\n      <td>967c686e4217c6fd2dfbe71814c6f4c3</td>\n    </tr>\n    <tr>\n      <th>...</th>\n      <td>...</td>\n      <td>...</td>\n      <td>...</td>\n      <td>...</td>\n      <td>...</td>\n      <td>...</td>\n      <td>...</td>\n      <td>...</td>\n      <td>...</td>\n      <td>...</td>\n      <td>...</td>\n      <td>...</td>\n      <td>...</td>\n      <td>...</td>\n    </tr>\n    <tr>\n      <th>638</th>\n      <td>male</td>\n      <td>black</td>\n      <td>1952</td>\n      <td>20800.00</td>\n      <td>9/8/2020</td>\n      <td>NaN</td>\n      <td>school crossing guard</td>\n      <td>yearly</td>\n      <td>2021</td>\n      <td>Lafayette PD</td>\n      <td>ventroy</td>\n      <td>willis</td>\n      <td>j</td>\n      <td>f3799d811e280db8a2bb0934a4822d48</td>\n    </tr>\n    <tr>\n      <th>639</th>\n      <td>male</td>\n      <td>white</td>\n      <td>1992</td>\n      <td>47940.05</td>\n      <td>12/26/2018</td>\n      <td>NaN</td>\n      <td>police officer</td>\n      <td>yearly</td>\n      <td>2021</td>\n      <td>Lafayette PD</td>\n      <td>trahan</td>\n      <td>zachary</td>\n      <td>t</td>\n      <td>50f1adb76992bd481a0caab99b3eeca5</td>\n    </tr>\n    <tr>\n      <th>640</th>\n      <td>male</td>\n      <td>black</td>\n      <td>1985</td>\n      <td>42830.53</td>\n      <td>4/7/2008</td>\n      <td>7/10/2014</td>\n      <td>police officer</td>\n      <td>yearly</td>\n      <td>2021</td>\n      <td>Lafayette PD</td>\n      <td>guillory</td>\n      <td>zairrick</td>\n      <td></td>\n      <td>bd592852ae89985af6a5e7833d7368cf</td>\n    </tr>\n    <tr>\n      <th>641</th>\n      <td>male</td>\n      <td>black</td>\n      <td>1997</td>\n      <td>48921.39</td>\n      <td>8/15/2018</td>\n      <td>NaN</td>\n      <td>police officer</td>\n      <td>yearly</td>\n      <td>2021</td>\n      <td>Lafayette PD</td>\n      <td>narcisse</td>\n      <td>zakarie</td>\n      <td>t</td>\n      <td>b244a19fc5cbfd064874f4efe835391c</td>\n    </tr>\n    <tr>\n      <th>642</th>\n      <td>female</td>\n      <td>white</td>\n      <td>1995</td>\n      <td>47940.05</td>\n      <td>1/27/2019</td>\n      <td>NaN</td>\n      <td>police officer</td>\n      <td>yearly</td>\n      <td>2021</td>\n      <td>Lafayette PD</td>\n      <td>lavergne</td>\n      <td>zoie</td>\n      <td>j</td>\n      <td>90c0b92e25795b979c98406b61e361c8</td>\n    </tr>\n  </tbody>\n</table>\n<p>642 rows × 14 columns</p>\n</div>"
     },
     "metadata": {},
     "execution_count": 5
    }
   ],
   "source": [
    "pprr = clean_pprr()\n",
    "pprr"
   ]
  },
  {
   "cell_type": "code",
   "execution_count": 6,
   "metadata": {},
   "outputs": [
    {
     "output_type": "execute_result",
     "data": {
      "text/plain": [
       "Empty DataFrame\n",
       "Columns: [sex, race, birth_year, salary, hire_date, left_date, rank_desc, salary_freq, data_production_year, agency, last_name, first_name, middle_initial, uid]\n",
       "Index: []"
      ],
      "text/html": "<div>\n<style scoped>\n    .dataframe tbody tr th:only-of-type {\n        vertical-align: middle;\n    }\n\n    .dataframe tbody tr th {\n        vertical-align: top;\n    }\n\n    .dataframe thead th {\n        text-align: right;\n    }\n</style>\n<table border=\"1\" class=\"dataframe\">\n  <thead>\n    <tr style=\"text-align: right;\">\n      <th></th>\n      <th>sex</th>\n      <th>race</th>\n      <th>birth_year</th>\n      <th>salary</th>\n      <th>hire_date</th>\n      <th>left_date</th>\n      <th>rank_desc</th>\n      <th>salary_freq</th>\n      <th>data_production_year</th>\n      <th>agency</th>\n      <th>last_name</th>\n      <th>first_name</th>\n      <th>middle_initial</th>\n      <th>uid</th>\n    </tr>\n  </thead>\n  <tbody>\n  </tbody>\n</table>\n</div>"
     },
     "metadata": {},
     "execution_count": 6
    }
   ],
   "source": [
    "pprr[pprr.uid.duplicated()]"
   ]
  },
  {
   "cell_type": "code",
   "execution_count": null,
   "metadata": {},
   "outputs": [],
   "source": []
  }
 ]
}